{
 "cells": [
  {
   "cell_type": "code",
   "execution_count": null,
   "id": "ade90b74",
   "metadata": {},
   "outputs": [],
   "source": [
    "print (\"#/################################################################################/\")\n",
    "print (\"/                                                                                 /\")\n",
    "print (\"/                         Muhammad Ammar Tua Tambunan                             /\")\n",
    "print (\"/                            20/459230/PA/19891                                   /\")\n",
    "print (\"/                         bukanammarta@mail.ugm.ac.id                             /\")\n",
    "print (\"/                                                                                 /\")\n",
    "print (\"#/################################################################################/\")"
   ]
  }
 ],
 "metadata": {
  "kernelspec": {
   "display_name": "Python 3",
   "language": "python",
   "name": "python3"
  },
  "language_info": {
   "codemirror_mode": {
    "name": "ipython",
    "version": 3
   },
   "file_extension": ".py",
   "mimetype": "text/x-python",
   "name": "python",
   "nbconvert_exporter": "python",
   "pygments_lexer": "ipython3",
   "version": "3.9.1"
  }
 },
 "nbformat": 4,
 "nbformat_minor": 5
}
